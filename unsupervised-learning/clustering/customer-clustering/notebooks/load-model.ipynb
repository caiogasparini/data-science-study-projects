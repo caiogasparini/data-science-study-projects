{
 "cells": [
  {
   "cell_type": "code",
   "execution_count": 1,
   "id": "a9228e88",
   "metadata": {},
   "outputs": [],
   "source": [
    "import pandas as pd\n",
    "import numpy as np\n",
    "import joblib"
   ]
  },
  {
   "cell_type": "code",
   "execution_count": 2,
   "id": "361f2340",
   "metadata": {},
   "outputs": [],
   "source": [
    "path = r\"C:\\Users\\caio_\\OneDrive\\Documentos\\Caio\\PROJETOS - CIÊNCIAS DE DADOS\\Git e GitHub\\ciencia-de-dados\\unsupervised-learning\\clustering---customer-clustering\\dados\\segmentation data.csv\"\n",
    "df = pd.read_csv(path)"
   ]
  },
  {
   "cell_type": "code",
   "execution_count": 3,
   "id": "3ac70c7c",
   "metadata": {},
   "outputs": [],
   "source": [
    "df = df.drop(columns='ID')"
   ]
  },
  {
   "cell_type": "code",
   "execution_count": 4,
   "id": "b232ce5b",
   "metadata": {},
   "outputs": [],
   "source": [
    "path_model = r\"C:\\Users\\caio_\\OneDrive\\Documentos\\Caio\\PROJETOS - CIÊNCIAS DE DADOS\\Git e GitHub\\ciencia-de-dados\\unsupervised-learning\\clustering---customer-clustering\\algoritmos\\kmeans_model.joblib\"\n",
    "model = joblib.load(path_model)"
   ]
  },
  {
   "cell_type": "code",
   "execution_count": 5,
   "id": "5e1e6661",
   "metadata": {},
   "outputs": [],
   "source": [
    "predictions = model.predict(df)"
   ]
  }
 ],
 "metadata": {
  "kernelspec": {
   "display_name": "Python 3 (ipykernel)",
   "language": "python",
   "name": "python3"
  },
  "language_info": {
   "codemirror_mode": {
    "name": "ipython",
    "version": 3
   },
   "file_extension": ".py",
   "mimetype": "text/x-python",
   "name": "python",
   "nbconvert_exporter": "python",
   "pygments_lexer": "ipython3",
   "version": "3.11.4"
  }
 },
 "nbformat": 4,
 "nbformat_minor": 5
}
